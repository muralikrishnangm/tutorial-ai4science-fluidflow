{
 "cells": [
  {
   "cell_type": "markdown",
   "id": "21d16992-ab3c-423a-bed4-ad2e452513e0",
   "metadata": {},
   "source": [
    "# Introduction\n",
    "\n",
    "* A script to load models and their learnable parameters (weights, biases, etc.) which are trained using:\n",
    "    1. Keras (or TensorFlow)\n",
    "    2. PyTorch\n",
    "* References: \n",
    "    - https://www.adrian.idv.hk/2020-12-31-torch2tf/\n",
    "    - https://stackoverflow.com/questions/42703500/best-way-to-save-a-trained-model-in-pytorch\n",
    "\n",
    "\n",
    "**By MGM, ORNL**\n",
    "\n",
    "2022 May 15"
   ]
  },
  {
   "cell_type": "code",
   "execution_count": 1,
   "id": "a826a5f6-c419-4fae-b556-0d62fd97ad22",
   "metadata": {},
   "outputs": [],
   "source": [
    "import numpy as np\n",
    "\n",
    "import os\n",
    "os.environ['TF_CPP_MIN_LOG_LEVEL'] = '1'    # to hide TF info messages\n",
    "import tensorflow as tf\n",
    "\n",
    "import torch"
   ]
  },
  {
   "cell_type": "markdown",
   "id": "0f9e5b51-1eae-4b2a-808b-5052e0203fbe",
   "metadata": {},
   "source": [
    "# Model names"
   ]
  },
  {
   "cell_type": "code",
   "execution_count": 2,
   "id": "9ef887f7-845a-4b95-8881-aca2f4a848cb",
   "metadata": {},
   "outputs": [],
   "source": [
    "Ntot            = np.int(1e6) # number of total data points\n",
    "nneurons        = 10     # number of neurons in MLP (***)\n",
    "fname_NNkeras   = f'Data_models/supercell_micro_Keras_SingleMLP_{str(Ntot)}_Nneu{str(nneurons)}'\n",
    "model_name      = 'SingleMLP'        # model name: 'SingleMLP' 'ResNet' 'DenseNet'\n",
    "fname_NNpytorch = f'Data_models/supercell_micro_PyTorch_{model_name}_{str(Ntot)}_Nneu{str(nneurons)}'"
   ]
  },
  {
   "cell_type": "markdown",
   "id": "60319998-9051-48b8-9df5-e97aad0b0475",
   "metadata": {},
   "source": [
    "# Keras (or TensorFlow) model"
   ]
  },
  {
   "cell_type": "code",
   "execution_count": 3,
   "id": "098816cd-b0c2-45a3-b23f-fd1f1a9e0a33",
   "metadata": {
    "tags": []
   },
   "outputs": [
    {
     "name": "stdout",
     "output_type": "stream",
     "text": [
      "L0:\tParameters: (12, 10), (10,)\n",
      "<tensorflow.python.keras.layers.core.Dense object at 0x7eff5fa8df70>\n",
      "\t[<tf.Variable 'dense/kernel:0' shape=(12, 10) dtype=float32, numpy=\n",
      "array([[ 4.4839606e-02,  3.4142290e-03,  6.2647603e-02, -5.2080089e-03,\n",
      "         6.5400094e-02,  1.1367138e-02, -1.2471851e-02,  2.2232479e-01,\n",
      "        -1.2108028e-02,  9.6040681e-02],\n",
      "       [ 6.2061793e-01, -2.2211903e-01,  6.1980444e-01,  1.8864895e-01,\n",
      "        -2.6342615e-01,  5.2737045e-01,  2.2463527e-01, -4.9450159e-01,\n",
      "         1.9757085e-01,  5.8157426e-01],\n",
      "       [ 1.8169809e-02,  7.4737710e-03,  8.9990035e-02, -5.0105426e-02,\n",
      "         1.3751762e-02,  9.8412503e-03, -8.3880676e-03,  2.3363391e-01,\n",
      "         1.7302802e-02,  1.0582845e-01],\n",
      "       [-6.7542037e-03, -9.7089246e-02,  9.3365818e-02, -1.4075327e-02,\n",
      "         7.7508472e-02, -1.2855682e-01, -2.3073874e-02,  2.7188972e-02,\n",
      "         1.3528147e-02,  3.5556637e-02],\n",
      "       [-3.4937628e-02, -7.3892653e-01,  2.7074626e-01,  5.8355039e-01,\n",
      "        -2.2066720e-01, -3.6521081e-02,  6.6532212e-01, -4.9665272e-02,\n",
      "         4.9254063e-01, -8.7106317e-01],\n",
      "       [ 5.2454136e-03, -6.6197813e-02,  1.0543062e-01, -2.9011659e-02,\n",
      "         5.6559574e-02, -1.1936166e-01, -7.8555644e-03,  8.3101615e-02,\n",
      "         6.2733452e-04,  5.7516713e-02],\n",
      "       [-1.6735709e-01,  1.3946971e-01,  2.3088226e-02, -1.9610327e-02,\n",
      "        -8.2314417e-02,  1.6518314e-01, -1.4744732e-01,  2.3614805e-02,\n",
      "         2.5258347e-01,  8.4465584e-03],\n",
      "       [ 7.8230369e-01,  2.1724544e-01, -6.7859602e-01, -2.5056738e-01,\n",
      "        -1.6284314e+00, -4.9716723e-01, -1.8781610e-01,  3.5701361e-02,\n",
      "         1.0800247e+00, -4.5907624e-02],\n",
      "       [-1.3262539e-01,  8.6922385e-02,  1.1165159e-02, -4.4521146e-02,\n",
      "         1.8093742e-02,  7.7851869e-02, -8.0491014e-02, -7.7119909e-02,\n",
      "         1.8940908e-01, -2.7577972e-02],\n",
      "       [ 1.2658615e-01, -1.2077385e-01,  5.7623610e-03, -9.4426990e-02,\n",
      "         1.3396817e-01,  7.4566491e-03,  1.3494834e-01,  1.9498457e-01,\n",
      "        -1.4118357e-01,  7.0327833e-02],\n",
      "       [-5.1273406e-01, -7.7015024e-01, -3.8839889e-01,  5.4524344e-01,\n",
      "        -2.0170589e-01, -2.8042576e-01,  8.0368823e-01,  4.2548317e-02,\n",
      "         2.4756296e-01,  7.1733940e-01],\n",
      "       [ 4.0521204e-02, -1.2482215e-01, -2.4793874e-02, -8.9122422e-02,\n",
      "         1.4527090e-01,  2.2054164e-02,  9.8917559e-02,  3.7855603e-02,\n",
      "        -4.4291541e-02,  1.5516735e-02]], dtype=float32)>, <tf.Variable 'dense/bias:0' shape=(10,) dtype=float32, numpy=\n",
      "array([-0.01871512,  0.02343638, -0.00131951, -0.00901803,  0.01740695,\n",
      "       -0.01762395, -0.0228916 ,  0.0269327 , -0.02019686, -0.02038271],\n",
      "      dtype=float32)>]\n",
      "\n",
      "L1:\tParameters: \n",
      "<tensorflow.python.keras.layers.advanced_activations.LeakyReLU object at 0x7eff5fab08b0>\n",
      "\t[]\n",
      "\n",
      "L2:\tParameters: (10, 4), (4,)\n",
      "<tensorflow.python.keras.layers.core.Dense object at 0x7eff5c640670>\n",
      "\t[<tf.Variable 'dense_1/kernel:0' shape=(10, 4) dtype=float32, numpy=\n",
      "array([[ 0.35986313,  0.05065902,  0.35276365, -0.28513026],\n",
      "       [-0.12122083, -0.40243703,  0.04110652, -0.36617708],\n",
      "       [ 0.36414877,  0.24931172, -0.26486906, -0.25285146],\n",
      "       [ 0.09187904,  0.25103477, -0.09128974,  0.19215135],\n",
      "       [-0.18907142, -0.10409892, -0.39947823, -0.09093222],\n",
      "       [ 0.25474685,  0.03601448, -0.18317373, -0.10202022],\n",
      "       [ 0.10059661,  0.3288806 , -0.03320747,  0.32347557],\n",
      "       [-0.30184913,  0.17243284,  0.03714254, -0.01851794],\n",
      "       [ 0.12239815,  0.2163578 ,  0.32672328,  0.11373994],\n",
      "       [ 0.32840943, -0.50511265,  0.01494178,  0.411088  ]],\n",
      "      dtype=float32)>, <tf.Variable 'dense_1/bias:0' shape=(4,) dtype=float32, numpy=array([0.03265431, 0.00205226, 0.00802426, 0.01400506], dtype=float32)>]\n",
      "\n"
     ]
    }
   ],
   "source": [
    "# load json and create model\n",
    "json_file = open(f'{fname_NNkeras}_modelparameters.json', 'r')\n",
    "loaded_model_json = json_file.read()\n",
    "json_file.close()\n",
    "loaded_model = tf.keras.models.model_from_json(loaded_model_json)\n",
    "# load weights into new model\n",
    "loaded_model.load_weights(f'{fname_NNkeras}_modelparameters.h5')\n",
    "\n",
    "for i,l in enumerate(loaded_model.layers):\n",
    "    print(\"L{}:\\tParameters: {}\".format(i, \", \".join(str(w.shape) for w in loaded_model.layers[i].weights)))\n",
    "    print(f\"{l}\\n\\t{loaded_model.layers[i].weights}\\n\")"
   ]
  },
  {
   "cell_type": "markdown",
   "id": "e648aac9-8969-4337-8c9a-c1ecf12d9806",
   "metadata": {},
   "source": [
    "# PyTorch model\n",
    "\n",
    "* `model.stat_dict()` comprise of the learnable parameters of the model\n",
    "* 2 methods to access model parameters, stat_dict\n",
    "* **NOTE**: PyTorch saves weight tensors as the transpose of that of TensorFlow"
   ]
  },
  {
   "cell_type": "code",
   "execution_count": 4,
   "id": "9251e752-d90e-4fba-9303-e9f7d1950c86",
   "metadata": {},
   "outputs": [
    {
     "name": "stdout",
     "output_type": "stream",
     "text": [
      "Model's state_dict (from full model):\n",
      "hidden1.weight \t torch.Size([10, 12])\n",
      "hidden1.bias \t torch.Size([10])\n",
      "hidden3.weight \t torch.Size([4, 10])\n",
      "hidden3.bias \t torch.Size([4])\n"
     ]
    }
   ],
   "source": [
    "# Method 1: from full model\n",
    "# Load full model using TorchScript format\n",
    "model = torch.jit.load(f'{fname_NNpytorch}_Cpp.pt')\n",
    "# Print model's state_dict\n",
    "print(\"Model's state_dict (from full model):\")\n",
    "for param_tensor in model.state_dict():\n",
    "    print(param_tensor, \"\\t\", model.state_dict()[param_tensor].size())"
   ]
  },
  {
   "cell_type": "code",
   "execution_count": 5,
   "id": "50ab9627-0c48-4073-b5f5-8886294817de",
   "metadata": {},
   "outputs": [
    {
     "name": "stdout",
     "output_type": "stream",
     "text": [
      "Model's state_dict (from state_dict only):\n",
      "hidden1.weight \t tensor([[-0.4795, -0.4573, -0.4388,  0.9110, -0.6623,  0.0104, -0.3194, -0.6936,\n",
      "         -0.5155, -1.0117,  1.9673, -0.3153],\n",
      "        [ 0.1120, -0.3004,  0.5225, -0.1805,  0.5088,  0.1800,  0.4128, -0.1120,\n",
      "         -0.4814, -0.2813,  0.3594,  0.2713],\n",
      "        [ 0.3613,  0.4166,  0.2360, -0.7671, -0.0962,  0.1965,  0.2009, -0.0219,\n",
      "         -0.2966,  0.3146,  0.5174,  0.1808],\n",
      "        [-0.2181, -0.8262, -0.1929,  1.0687, -0.0543, -0.5197,  0.0689, -0.6304,\n",
      "          0.0523, -0.6432,  1.6410, -0.2651],\n",
      "        [ 0.0706,  0.3954, -0.2650, -0.1155,  0.2107, -0.1223, -0.2126,  0.5290,\n",
      "          0.4203,  0.5050,  0.5425, -0.1520],\n",
      "        [ 0.5908, -0.6495, -0.7403, -1.6795,  0.3208,  0.5091, -0.9094,  1.0736,\n",
      "         -0.6483,  0.0156, -0.9285,  0.8217],\n",
      "        [ 0.3941, -0.0728,  0.2308, -0.4549,  0.2599, -0.0496,  0.2809, -0.4778,\n",
      "         -0.0686,  0.5648,  0.3378, -0.0847],\n",
      "        [ 0.3825, -0.4405,  0.4552,  0.3143, -0.1592, -0.4090,  0.6359,  0.4280,\n",
      "         -0.1593,  0.4003,  0.2409, -0.4249],\n",
      "        [ 0.3577, -0.0995,  0.8773,  0.5768,  0.5533, -0.3898,  0.9276, -0.3133,\n",
      "         -0.4441, -0.0232, -0.1955, -0.1722],\n",
      "        [-0.6149,  0.2323, -1.1133, -0.4098,  0.3878,  0.4656, -0.5678,  0.3267,\n",
      "         -0.1929, -0.3079, -1.2615, -0.9453]])\n",
      "hidden1.bias \t tensor([-0.0265,  0.0196,  0.1770, -0.1568,  0.0079, -0.0892, -0.0177,  0.0325,\n",
      "        -0.0264, -0.1506])\n",
      "hidden3.weight \t tensor([[ 0.3784, -0.6310,  0.9236, -0.0820,  0.3867, -0.5858, -0.6318, -0.5926,\n",
      "          0.7584,  0.5688],\n",
      "        [-0.0520,  0.5701, -0.5812,  0.0780,  0.7811,  0.9756,  0.3304, -0.4825,\n",
      "          0.4466,  1.1737],\n",
      "        [-0.7230,  0.4077,  0.0920, -0.6133,  0.4513,  0.5724, -0.8002,  0.5051,\n",
      "         -0.1534,  0.2323],\n",
      "        [ 1.2708,  0.3332,  0.1772,  1.0063,  0.3720, -0.5461,  0.0117,  0.0453,\n",
      "         -0.1818, -0.4811]])\n",
      "hidden3.bias \t tensor([-0.1229,  0.1462, -0.0654, -0.0399])\n"
     ]
    }
   ],
   "source": [
    "# Method 2: just from the stat_dict\n",
    "# Load only model's state_dict to access learnable parameters\n",
    "model_state_dict = torch.load(f'{fname_NNpytorch}_modelparameters.pkl')\n",
    "# Print model's state_dict\n",
    "print(\"Model's state_dict (from state_dict only):\")\n",
    "for param_tensor in model_state_dict:\n",
    "    print(param_tensor, \"\\t\", model_state_dict[param_tensor])"
   ]
  }
 ],
 "metadata": {
  "kernelspec": {
   "display_name": "OLCF-CUDA11 (ipykernel)",
   "language": "python",
   "name": "python3"
  },
  "language_info": {
   "codemirror_mode": {
    "name": "ipython",
    "version": 3
   },
   "file_extension": ".py",
   "mimetype": "text/x-python",
   "name": "python",
   "nbconvert_exporter": "python",
   "pygments_lexer": "ipython3",
   "version": "3.8.10"
  }
 },
 "nbformat": 4,
 "nbformat_minor": 5
}
