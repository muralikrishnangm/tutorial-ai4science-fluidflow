{
 "cells": [
  {
   "cell_type": "markdown",
   "metadata": {},
   "source": [
    "# Introduction\n",
    "\n",
    "Python script for data acquisition for emulating microphysics (Kessler) in supercell (climate) test case - load and extract data from netCDF file for ML model\n",
    "\n",
    "Microphysics consits of 4 flow variables - temperature, water vapor, cloud water \\[liquid\\] & precipitation/rain \\[liquid\\].\n",
    "\n",
    "* **Input data**: Microphysics of 1D cell stencil ($3 \\times 1$) for a given cell\n",
    "    - Size of a single input to NN model: $[N_{\\text{micro}} \\times N_{\\text{coarse stencil cells} }] = [4 \\times 3]$ for 2D/3D simulation\n",
    "* **Output data**: Microphysics of given cell after emmulation (at next time step)\n",
    "    - Size of corresponding output from NN model: $[N_{\\text{micro}}] = [4]$ for 2D/3D simulation\n",
    "* **Training data size**:\n",
    "    - Input:  $12 \\times N_{\\text{train}}$\n",
    "    - Output: $4  \\times N_{\\text{train}}$\n",
    "\n",
    "\n",
    "**By MGM, ORNL**\n",
    "\n",
    "2022 April 05\n",
    "\n",
    "**Edited:**\n",
    "* 2022 Apr. 05:\n",
    "    * initial code complete"
   ]
  },
  {
   "cell_type": "markdown",
   "metadata": {},
   "source": [
    "# Import libraries"
   ]
  },
  {
   "cell_type": "code",
   "execution_count": 1,
   "metadata": {},
   "outputs": [
    {
     "name": "stdout",
     "output_type": "stream",
     "text": [
      "Collecting netCDF4\n",
      "  Using cached netCDF4-1.5.8-cp38-cp38-manylinux_2_17_x86_64.manylinux2014_x86_64.whl (4.7 MB)\n",
      "Collecting cftime\n",
      "  Using cached cftime-1.6.0-cp38-cp38-manylinux_2_17_x86_64.manylinux2014_x86_64.whl (238 kB)\n",
      "Requirement already satisfied: numpy>=1.9 in /opt/conda/lib/python3.8/site-packages (from netCDF4) (1.19.5)\n",
      "Installing collected packages: cftime, netCDF4\n",
      "Successfully installed cftime-1.6.0 netCDF4-1.5.8\n"
     ]
    }
   ],
   "source": [
    "import numpy as np\n",
    "\n",
    "import os\n",
    "\n",
    "!pip install netCDF4\n",
    "import netCDF4\n",
    "from netCDF4 import Dataset\n",
    "\n",
    "import matplotlib.pyplot as plt"
   ]
  },
  {
   "cell_type": "markdown",
   "metadata": {},
   "source": [
    "# Parameters: Total number of dataset and % of testing"
   ]
  },
  {
   "cell_type": "code",
   "execution_count": 2,
   "metadata": {},
   "outputs": [],
   "source": [
    "Ntrain       = np.int(1e6)      # number of training data\n",
    "Ntest        = np.int(1e4)      # number of testing data\n",
    "shuffledata  = True             # randomly shuffle data or not (***)\n",
    "\n",
    "savedata     = True"
   ]
  },
  {
   "cell_type": "markdown",
   "metadata": {},
   "source": [
    "# Load fluid flow data"
   ]
  },
  {
   "cell_type": "markdown",
   "metadata": {},
   "source": [
    "* Load snapshots stored as `netCDF` format"
   ]
  },
  {
   "cell_type": "code",
   "execution_count": 3,
   "metadata": {},
   "outputs": [
    {
     "name": "stdout",
     "output_type": "stream",
     "text": [
      "Downloading data from:\n",
      " https://www.dropbox.com/s/boxwrhmhfc2mku8/supercell_micro_surrogate_data.nc?dl=0\n",
      "See cell below for data download commands in Google Colab\n",
      "Exiting program...\n",
      "--2022-04-07 14:45:44--  https://www.dropbox.com/s/boxwrhmhfc2mku8/supercell_micro_surrogate_data.nc?dl=0\n",
      "Resolving www.dropbox.com (www.dropbox.com)... 162.125.9.18, 2620:100:601f:18::a27d:912\n",
      "Connecting to www.dropbox.com (www.dropbox.com)|162.125.9.18|:443... connected.\n",
      "HTTP request sent, awaiting response... 301 Moved Permanently\n",
      "Location: /s/raw/boxwrhmhfc2mku8/supercell_micro_surrogate_data.nc [following]\n",
      "--2022-04-07 14:45:44--  https://www.dropbox.com/s/raw/boxwrhmhfc2mku8/supercell_micro_surrogate_data.nc\n",
      "Reusing existing connection to www.dropbox.com:443.\n",
      "HTTP request sent, awaiting response... 302 Found\n",
      "Location: https://uc1cdecd935afdd299cb88ebebf3.dl.dropboxusercontent.com/cd/0/inline/Bi-PCFN-W6XogHkIWijG0m-1h9NtOLVm-FRVrKMSZw53dyOdJavLZoQKpkuE-11QKte0SvYtjnLwEsjSSYN4VpDMVZG7AEz0fMkYre-duAeAVAYrn3ENz932P7Ip8JzXjVOKJZaseR4HAFNMFB9hQVxIR8E-xhl-iU5rmhiXuajsQw/file# [following]\n",
      "--2022-04-07 14:45:44--  https://uc1cdecd935afdd299cb88ebebf3.dl.dropboxusercontent.com/cd/0/inline/Bi-PCFN-W6XogHkIWijG0m-1h9NtOLVm-FRVrKMSZw53dyOdJavLZoQKpkuE-11QKte0SvYtjnLwEsjSSYN4VpDMVZG7AEz0fMkYre-duAeAVAYrn3ENz932P7Ip8JzXjVOKJZaseR4HAFNMFB9hQVxIR8E-xhl-iU5rmhiXuajsQw/file\n",
      "Resolving uc1cdecd935afdd299cb88ebebf3.dl.dropboxusercontent.com (uc1cdecd935afdd299cb88ebebf3.dl.dropboxusercontent.com)... 162.125.9.15, 2620:100:601f:15::a27d:90f\n",
      "Connecting to uc1cdecd935afdd299cb88ebebf3.dl.dropboxusercontent.com (uc1cdecd935afdd299cb88ebebf3.dl.dropboxusercontent.com)|162.125.9.15|:443... connected.\n",
      "HTTP request sent, awaiting response... 302 Found\n",
      "Location: /cd/0/inline2/Bi9gtki07kxvWsSliklVq5hyauyGuPIDm7A2dIwvf72kFOC20geL1DqgefXtrqur00-sBzrUbX7UJ6JCHIUyqANQBv1EYHusdtZU08S0xF_BvTPo_svGpRDju0cao2JK4ybpid4DGjcImKRFbaUWWWnNYU8dvoqz9ky9lqVWSKmkUUJPd-C_8_3DkdJpEF_BXMtegsU94Pnzfcy5bcHE0zS6WG3gHYhywcd1h_jLjE25Tx9JGhcETcIFuJpZJcrR0Pb9op5t1uLPVqJu_0iJXrdLRUILyUu14dRoRFl_mHrRhPJzh6l83dkYwRTTcawYVhgKbhdupi-PWfQBOBtHo2YRDRTMtHUJM40RizwOoKb6zcPnjTfLF2zZ_IOw3KLmZTp4NS2YuPgSVeYzKHXSMosoOTwhOmuFqzL8UN2Dac3Z-A/file [following]\n",
      "--2022-04-07 14:45:45--  https://uc1cdecd935afdd299cb88ebebf3.dl.dropboxusercontent.com/cd/0/inline2/Bi9gtki07kxvWsSliklVq5hyauyGuPIDm7A2dIwvf72kFOC20geL1DqgefXtrqur00-sBzrUbX7UJ6JCHIUyqANQBv1EYHusdtZU08S0xF_BvTPo_svGpRDju0cao2JK4ybpid4DGjcImKRFbaUWWWnNYU8dvoqz9ky9lqVWSKmkUUJPd-C_8_3DkdJpEF_BXMtegsU94Pnzfcy5bcHE0zS6WG3gHYhywcd1h_jLjE25Tx9JGhcETcIFuJpZJcrR0Pb9op5t1uLPVqJu_0iJXrdLRUILyUu14dRoRFl_mHrRhPJzh6l83dkYwRTTcawYVhgKbhdupi-PWfQBOBtHo2YRDRTMtHUJM40RizwOoKb6zcPnjTfLF2zZ_IOw3KLmZTp4NS2YuPgSVeYzKHXSMosoOTwhOmuFqzL8UN2Dac3Z-A/file\n",
      "Reusing existing connection to uc1cdecd935afdd299cb88ebebf3.dl.dropboxusercontent.com:443.\n",
      "HTTP request sent, awaiting response... 200 OK\n",
      "Length: 2290696781 (2.1G) [application/x-netcdf]\n",
      "Saving to: ‘supercell_micro_surrogate_data.nc’\n",
      "\n",
      "supercell_micro_sur 100%[===================>]   2.13G  59.8MB/s    in 53s     \n",
      "\n",
      "2022-04-07 14:46:38 (41.1 MB/s) - ‘supercell_micro_surrogate_data.nc’ saved [2290696781/2290696781]\n",
      "\n"
     ]
    }
   ],
   "source": [
    "path = f'Data_training/supercell_micro_surrogate_data.nc'\n",
    "data_link  = \"https://www.dropbox.com/s/boxwrhmhfc2mku8/supercell_micro_surrogate_data.nc?dl=0\"\n",
    "\n",
    "# download data if necessary\n",
    "if ( not os.path.isfile(path) ):\n",
    "    print(f\"Downloading data from:\\n {data_link}\\nSee cell below for data download commands in Google Colab\\nExiting program...\")\n",
    "    if ( not os.path.isdir(f'Data_training/') ): \n",
    "        !mkdir Data_training\n",
    "    !wget {data_link} -O supercell_micro_surrogate_data.nc\n",
    "    !mv supercell_micro_surrogate_data.nc Data_training/\n",
    "    \n",
    "# load raw data\n",
    "nc_data = Dataset(path,'r')"
   ]
  },
  {
   "cell_type": "markdown",
   "metadata": {},
   "source": [
    "* Extract variables"
   ]
  },
  {
   "cell_type": "code",
   "execution_count": 4,
   "metadata": {},
   "outputs": [
    {
     "name": "stdout",
     "output_type": "stream",
     "text": [
      "Input shape = (9883065, 4, 3)\n",
      "Output shape = (9883065, 4)\n",
      "Total number of data points = 9,883,065\n"
     ]
    }
   ],
   "source": [
    "data_ip = nc_data.variables[\"inputs\"]\n",
    "data_op = nc_data.variables[\"outputs\"]\n",
    "# Define dimensions\n",
    "[Nsampls, Nmicro, Nstenc] = data_ip.shape\n",
    "idT = 0; idV = 1; idC = 2; idP = 3;\n",
    "\n",
    "\n",
    "print(f'Input shape = {data_ip.shape}')\n",
    "print(f'Output shape = {data_op.shape}')\n",
    "print(f'Total number of data points = {Nsampls:,}')"
   ]
  },
  {
   "cell_type": "markdown",
   "metadata": {},
   "source": [
    "# Extract training & testing data"
   ]
  },
  {
   "cell_type": "code",
   "execution_count": 5,
   "metadata": {},
   "outputs": [],
   "source": [
    "# compute number of samples for training & testing\n",
    "if shuffledata: samplList = np.random.permutation(np.arange(0, Ntrain))\n",
    "else: samplList = np.arange(0, Ntrain)\n",
    "if Nsampls<Ntrain:\n",
    "    print(\"Need more samples!!!!!\")\n",
    "else:\n",
    "    samplList = samplList[0:Ntrain]\n",
    "    # Training data\n",
    "    datatrain_IP = data_ip[samplList, :, :].reshape( (Ntrain, Nmicro*Nstenc) ).T\n",
    "    datatrain_OP = data_op[samplList, :].T\n",
    "    # Testing data\n",
    "    datatest_IP = data_ip[Ntrain:Ntrain+Ntest, :, :].reshape( (Ntest, Nmicro*Nstenc) ).T\n",
    "    datatest_OP = data_op[Ntrain:Ntrain+Ntest, :].T"
   ]
  },
  {
   "cell_type": "markdown",
   "metadata": {},
   "source": [
    "# Save data"
   ]
  },
  {
   "cell_type": "markdown",
   "metadata": {},
   "source": [
    "* Save all the data arrays in a `.npz` file"
   ]
  },
  {
   "cell_type": "code",
   "execution_count": 6,
   "metadata": {},
   "outputs": [],
   "source": [
    "if savedata:\n",
    "    np.savez('Data_training/supercell_micro_Ntrain'+str(Ntrain)+'.npz',\n",
    "             Ntrain=Ntrain, Ntest=Ntest,\n",
    "             datatrain_IP=datatrain_IP, datatrain_OP=datatrain_OP, \n",
    "             datatest_IP=datatest_IP, datatest_OP=datatest_OP)"
   ]
  }
 ],
 "metadata": {
  "kernelspec": {
   "display_name": "OLCF-CUDA11 (ipykernel)",
   "language": "python",
   "name": "python3"
  },
  "language_info": {
   "codemirror_mode": {
    "name": "ipython",
    "version": 3
   },
   "file_extension": ".py",
   "mimetype": "text/x-python",
   "name": "python",
   "nbconvert_exporter": "python",
   "pygments_lexer": "ipython3",
   "version": "3.8.10"
  },
  "latex_envs": {
   "LaTeX_envs_menu_present": true,
   "autoclose": false,
   "autocomplete": true,
   "bibliofile": "biblio.bib",
   "cite_by": "apalike",
   "current_citInitial": 1,
   "eqLabelWithNumbers": true,
   "eqNumInitial": 1,
   "hotkeys": {
    "equation": "Ctrl-E",
    "itemize": "Ctrl-I"
   },
   "labels_anchors": false,
   "latex_user_defs": false,
   "report_style_numbering": false,
   "user_envs_cfg": false
  },
  "toc": {
   "base_numbering": 1,
   "nav_menu": {},
   "number_sections": false,
   "sideBar": true,
   "skip_h1_title": false,
   "title_cell": "Table of Contents",
   "title_sidebar": "Contents",
   "toc_cell": false,
   "toc_position": {
    "height": "calc(100% - 180px)",
    "left": "10px",
    "top": "150px",
    "width": "324px"
   },
   "toc_section_display": true,
   "toc_window_display": true
  },
  "varInspector": {
   "cols": {
    "lenName": 16,
    "lenType": 16,
    "lenVar": 40
   },
   "kernels_config": {
    "python": {
     "delete_cmd_postfix": "",
     "delete_cmd_prefix": "del ",
     "library": "var_list.py",
     "varRefreshCmd": "print(var_dic_list())"
    },
    "r": {
     "delete_cmd_postfix": ") ",
     "delete_cmd_prefix": "rm(",
     "library": "var_list.r",
     "varRefreshCmd": "cat(var_dic_list()) "
    }
   },
   "types_to_exclude": [
    "module",
    "function",
    "builtin_function_or_method",
    "instance",
    "_Feature"
   ],
   "window_display": false
  }
 },
 "nbformat": 4,
 "nbformat_minor": 4
}
