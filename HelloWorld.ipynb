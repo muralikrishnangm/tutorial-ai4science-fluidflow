{
 "cells": [
  {
   "cell_type": "markdown",
   "id": "3056eed6-cb05-49b6-8449-aa49fa1be066",
   "metadata": {},
   "source": [
    "# Hello world"
   ]
  },
  {
   "cell_type": "code",
   "execution_count": 1,
   "id": "7ef21e06-418a-49b4-b3a2-b57a44d4b79c",
   "metadata": {},
   "outputs": [],
   "source": [
    "import numpy as np"
   ]
  },
  {
   "cell_type": "code",
   "execution_count": 6,
   "id": "1b56b67b-e18a-4b4c-bdb7-e003b1cfe519",
   "metadata": {},
   "outputs": [
    {
     "name": "stdout",
     "output_type": "stream",
     "text": [
      "You made it!\n",
      "Here are some random stuff:[ 0.15050082 -0.9512474   0.46786091  1.55781961 -0.58756491]\n"
     ]
    }
   ],
   "source": [
    "print(f'You made it!\\nHere are some random stuff:{np.random.randn(5)}')"
   ]
  }
 ],
 "metadata": {
  "kernelspec": {
   "display_name": "OLCF-CUDA11 (ipykernel)",
   "language": "python",
   "name": "python3"
  },
  "language_info": {
   "codemirror_mode": {
    "name": "ipython",
    "version": 3
   },
   "file_extension": ".py",
   "mimetype": "text/x-python",
   "name": "python",
   "nbconvert_exporter": "python",
   "pygments_lexer": "ipython3",
   "version": "3.8.10"
  }
 },
 "nbformat": 4,
 "nbformat_minor": 5
}
